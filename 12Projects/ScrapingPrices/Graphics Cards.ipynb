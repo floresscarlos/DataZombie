{
 "cells": [
  {
   "cell_type": "code",
   "execution_count": null,
   "metadata": {
    "collapsed": true
   },
   "outputs": [],
   "source": [
    "import bs4\n",
    "# from urllib2.request import urlopen\n",
    "from urllib2 import urlopen as uReq #Python 2 friendly\n",
    "from bs4 import BeautifulSoup as soup"
   ]
  },
  {
   "cell_type": "code",
   "execution_count": null,
   "metadata": {
    "collapsed": true
   },
   "outputs": [],
   "source": [
    "#Scraping data from newegg\n",
    "#Graphics card example\n",
    "\n",
    "my_url = 'https://www.newegg.com/Product/ProductList.aspx?Submit=ENE&DEPA=0&Order=BESTMATCH&Description=phillips+hue&N=-1&isNodeId=1'"
   ]
  },
  {
   "cell_type": "code",
   "execution_count": null,
   "metadata": {
    "collapsed": true
   },
   "outputs": [],
   "source": [
    "#Create an object\n",
    "uClient = uReq(my_url)\n",
    "#Read\n",
    "page_html = uClient.read()\n",
    "#Always close \n",
    "uClient.close()"
   ]
  },
  {
   "cell_type": "code",
   "execution_count": null,
   "metadata": {
    "collapsed": true
   },
   "outputs": [],
   "source": [
    "#HTML parser\n",
    "page_soup = soup(page_html, \"html.parser\")"
   ]
  },
  {
   "cell_type": "code",
   "execution_count": null,
   "metadata": {
    "collapsed": true
   },
   "outputs": [],
   "source": [
    "#Find Tag\n",
    "page_soup.h1\n",
    "page_soup.p"
   ]
  },
  {
   "cell_type": "code",
   "execution_count": null,
   "metadata": {
    "collapsed": true
   },
   "outputs": [],
   "source": [
    "#Going deeper\n",
    "page_soup.body.span"
   ]
  },
  {
   "cell_type": "code",
   "execution_count": null,
   "metadata": {
    "collapsed": true
   },
   "outputs": [],
   "source": [
    "#Searching by name\n",
    "#Div class item-container has our items\n",
    "#This grabas each product\n",
    "item_containers = page_soup.findAll(\"div\",{\"class\":\"item-container\"})\n",
    "# item_container = page_soup.findAll(\"div\",{\"id\":\"id_name\"})"
   ]
  },
  {
   "cell_type": "code",
   "execution_count": null,
   "metadata": {
    "collapsed": true
   },
   "outputs": [],
   "source": [
    "#How many items did it find\n",
    "len(item_containers)"
   ]
  },
  {
   "cell_type": "code",
   "execution_count": null,
   "metadata": {
    "collapsed": true
   },
   "outputs": [],
   "source": [
    "#One item\n",
    "item = item_containers[0]\n",
    "\n",
    "#Sample\n",
    "item.div.div.a"
   ]
  },
  {
   "cell_type": "code",
   "execution_count": null,
   "metadata": {
    "collapsed": true
   },
   "outputs": [],
   "source": [
    "# item_brand = item.findAll(\"div\",{\"class\":\"item-branding\"})\n",
    "item_brand = item.findAll(\"a\",{\"class\":\"item-title\"})\n",
    "#Grab item inside of item_brand\n",
    "product_name = item_brand[0].text\n",
    "print product_name"
   ]
  },
  {
   "cell_type": "code",
   "execution_count": null,
   "metadata": {
    "collapsed": true
   },
   "outputs": [],
   "source": [
    "item_brand = item.findAll(\"li\",{\"class\":\"price-current\"})\n",
    "product_price = item_brand[0].text.strip()\n",
    "print product_price;"
   ]
  },
  {
   "cell_type": "code",
   "execution_count": null,
   "metadata": {
    "collapsed": true
   },
   "outputs": [],
   "source": []
  }
 ],
 "metadata": {
  "kernelspec": {
   "display_name": "Python 2",
   "language": "python",
   "name": "python2"
  },
  "language_info": {
   "codemirror_mode": {
    "name": "ipython",
    "version": 2
   },
   "file_extension": ".py",
   "mimetype": "text/x-python",
   "name": "python",
   "nbconvert_exporter": "python",
   "pygments_lexer": "ipython2",
   "version": "2.7.14"
  }
 },
 "nbformat": 4,
 "nbformat_minor": 2
}
