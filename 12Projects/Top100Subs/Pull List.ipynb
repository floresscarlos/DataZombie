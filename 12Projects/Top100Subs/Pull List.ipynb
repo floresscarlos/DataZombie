{
 "cells": [
  {
   "cell_type": "code",
   "execution_count": null,
   "metadata": {},
   "outputs": [],
   "source": [
    "from bs4 import BeautifulSoup\n",
    "import requests"
   ]
  },
  {
   "cell_type": "code",
   "execution_count": null,
   "metadata": {},
   "outputs": [],
   "source": [
    "#Pull all of the data from website\n",
    "url = requests.get('http://redditmetrics.com/top')\n",
    "\n",
    "#Create a Soup of the html content, use html-parser\n",
    "soup = BeautifulSoup(url.text, 'html.parser')\n",
    "\n",
    "#Create a file to write the sub-reddit names\n",
    "with open('sb.txt','w') as f:\n",
    "    \n",
    "    #For each 'a' element containing /r/ pull out the string\n",
    "    for subreddit in soup.find_all('a'):\n",
    "        try:\n",
    "            if '/r/' in subreddit.string:\n",
    "                f.write(subreddit.string[3:] + '\\n')\n",
    "        except:\n",
    "            TypeError\n",
    "            "
   ]
  },
  {
   "cell_type": "code",
   "execution_count": null,
   "metadata": {
    "collapsed": true
   },
   "outputs": [],
   "source": []
  }
 ],
 "metadata": {
  "kernelspec": {
   "display_name": "Python 2",
   "language": "python",
   "name": "python2"
  },
  "language_info": {
   "codemirror_mode": {
    "name": "ipython",
    "version": 2
   },
   "file_extension": ".py",
   "mimetype": "text/x-python",
   "name": "python",
   "nbconvert_exporter": "python",
   "pygments_lexer": "ipython2",
   "version": "2.7.14"
  }
 },
 "nbformat": 4,
 "nbformat_minor": 2
}
