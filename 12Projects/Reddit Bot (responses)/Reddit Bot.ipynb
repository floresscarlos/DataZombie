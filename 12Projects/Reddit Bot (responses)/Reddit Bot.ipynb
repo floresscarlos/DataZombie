{
 "cells": [
  {
   "cell_type": "code",
   "execution_count": null,
   "metadata": {},
   "outputs": [],
   "source": [
    "import praw\n",
    "from PyDictionary import PyDictionary\n",
    "import enchant\n",
    "\n",
    "#reddit API login\n",
    "reddit = praw.Reddit(client_id ='fMjmoF4WhgC3GQ',\n",
    "                     client_secret = '3rSKPiTRQkh3xLdRt4nSoxMszAk',\n",
    "                     username='finally2013',\n",
    "                     password='celaya',\n",
    "                     user_agent='prawInteractions')\n",
    "\n",
    "#sub Reddit selector\n",
    "subreddit = reddit.subreddit('BarkingSpiders')\n",
    "\n",
    "#prase to activate the bot\n",
    "kayphrase = '!spidersdown'\n",
    "\n",
    "#dictionary and word check\n",
    "dictionary = PyDictionary()\n",
    "d = enchant.Dict(\"en_US\")\n",
    "\n",
    "def isWord(word):\n",
    "    return d.check(word)\n",
    "\n",
    "#Look for phrase and reply to comment\n",
    "for comment in subreddit.stream.comments(): #You could say submissions\n",
    "    if keyphrase in comment.body:\n",
    "        word = comment.body.replace(keyphrase, '')\n",
    "        try:\n",
    "            if isWord(word):\n",
    "                #Get definition of the word and get ready to respond\n",
    "                words = dictionary.meaning(word)\n",
    "                reply = [item[0] for item in words.values()]\n",
    "                comment.reply(word + ': ' + reply[0])\n",
    "                print('posted')\n",
    "            else:\n",
    "                reply = 'This is not a word'\n",
    "                comment.reply(reply)\n",
    "                print('posted')\n",
    "        except:\n",
    "            print('to frequent')\n",
    "            \n",
    "\n",
    "\n",
    "\n",
    "\n",
    "\n",
    "\n",
    "\n"
   ]
  },
  {
   "cell_type": "code",
   "execution_count": null,
   "metadata": {
    "collapsed": true
   },
   "outputs": [],
   "source": []
  },
  {
   "cell_type": "code",
   "execution_count": null,
   "metadata": {},
   "outputs": [],
   "source": [
    "#Simple Reddit bot that responds to !spidersdown\n",
    "#Using a Reddit steam, it has a continuous connection\n",
    "\n",
    "import praw\n",
    "\n",
    "#reddit API login\n",
    "reddit = praw.Reddit(client_id ='fMjmoF4WhgC3GQ',\n",
    "                     client_secret = '3rSKPiTRQkh3xLdRt4nSoxMszAk',\n",
    "                     username='finally2013',\n",
    "                     password='celaya',\n",
    "                     user_agent='prawInteractions')\n",
    "\n",
    "#sub Reddit selector\n",
    "subreddit = reddit.subreddit('BarkingSpiders')\n",
    "\n",
    "#prase to activate the bot\n",
    "kayphrase = '!spidersdown'\n",
    "\n",
    "\n",
    "#Look for phrase and reply to comment\n",
    "for comment in subreddit.stream.comments(): #You could say submissions\n",
    "    if kayphrase in comment.body:\n",
    "        try:\n",
    "            #Get definition of the word and get ready to respond\n",
    "#             words = dictionary.meaning(word)\n",
    "#             reply = [item[0] for item in words.values()]\n",
    "            comment.reply('SPIDER DOWN')\n",
    "            print('posted')\n",
    "        except:\n",
    "            print('Random Error')\n",
    "            \n",
    "\n",
    "\n",
    "\n",
    "\n",
    "\n",
    "\n",
    "\n"
   ]
  },
  {
   "cell_type": "code",
   "execution_count": null,
   "metadata": {
    "collapsed": true
   },
   "outputs": [],
   "source": []
  }
 ],
 "metadata": {
  "kernelspec": {
   "display_name": "Python 2",
   "language": "python",
   "name": "python2"
  },
  "language_info": {
   "codemirror_mode": {
    "name": "ipython",
    "version": 2
   },
   "file_extension": ".py",
   "mimetype": "text/x-python",
   "name": "python",
   "nbconvert_exporter": "python",
   "pygments_lexer": "ipython2",
   "version": "2.7.14"
  }
 },
 "nbformat": 4,
 "nbformat_minor": 2
}
