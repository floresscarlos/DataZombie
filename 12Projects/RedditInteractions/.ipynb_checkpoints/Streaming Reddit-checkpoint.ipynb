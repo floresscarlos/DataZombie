{
 "cells": [
  {
   "cell_type": "code",
   "execution_count": null,
   "metadata": {},
   "outputs": [],
   "source": [
    "#Stream comments\n",
    "import praw\n",
    "\n",
    "reddit = praw.Reddit(client_id ='fMjmoF4WhgC3GQ',\n",
    "                     client_secret = '3rSKPiTRQkh3xLdRt4nSoxMszAk',\n",
    "                     username='finally2013',\n",
    "                     password='celaya',\n",
    "                     user_agent='prawInteractions')\n",
    "\n",
    "subreddit = reddit.subreddit('Bitcoin')\n",
    "\n",
    "for comment in subreddit.stream.comments():\n",
    "    try:\n",
    "        parent_id = str(comment.parent())\n",
    "\n",
    "        original = reddit.comment(parent_id)\n",
    "        print('Parent:')\n",
    "        print(original.body)\n",
    "        \n",
    "        print('Reply: ')\n",
    "        print(comment.body)\n",
    "        \n",
    "    \n",
    "    except Exception as e:\n",
    "        pass\n",
    "    "
   ]
  },
  {
   "cell_type": "code",
   "execution_count": null,
   "metadata": {},
   "outputs": [],
   "source": [
    "#Stream comments\n",
    "import praw\n",
    "\n",
    "reddit = praw.Reddit(client_id ='fMjmoF4WhgC3GQ',\n",
    "                     client_secret = '3rSKPiTRQkh3xLdRt4nSoxMszAk',\n",
    "                     username='finally2013',\n",
    "                     password='celaya',\n",
    "                     user_agent='prawInteractions')\n",
    "\n",
    "subreddit = reddit.subreddit('Bitcoin')\n",
    "\n",
    "for comment in subreddit.stream.comments():\n",
    "    try:\n",
    "        print(comment.body)\n",
    "        \n",
    "    except Exception as e:\n",
    "        pass\n",
    "    \n",
    "    \n",
    "    \n"
   ]
  },
  {
   "cell_type": "code",
   "execution_count": null,
   "metadata": {},
   "outputs": [],
   "source": [
    "#Stream comments\n",
    "import praw\n",
    "\n",
    "reddit = praw.Reddit(client_id ='fMjmoF4WhgC3GQ',\n",
    "                     client_secret = '3rSKPiTRQkh3xLdRt4nSoxMszAk',\n",
    "                     username='finally2013',\n",
    "                     password='celaya',\n",
    "                     user_agent='prawInteractions')\n",
    "\n",
    "subreddit = reddit.subreddit('Bitcoin')\n",
    "\n",
    "for submission in subreddit.stream.submissions():\n",
    "    try:\n",
    "        print(submission.title)\n",
    "        \n",
    "    except Exception as e:\n",
    "        pass\n",
    "    \n",
    "    \n",
    "    \n"
   ]
  },
  {
   "cell_type": "code",
   "execution_count": null,
   "metadata": {
    "collapsed": true
   },
   "outputs": [],
   "source": []
  }
 ],
 "metadata": {
  "kernelspec": {
   "display_name": "Python 2",
   "language": "python",
   "name": "python2"
  },
  "language_info": {
   "codemirror_mode": {
    "name": "ipython",
    "version": 2
   },
   "file_extension": ".py",
   "mimetype": "text/x-python",
   "name": "python",
   "nbconvert_exporter": "python",
   "pygments_lexer": "ipython2",
   "version": "2.7.14"
  }
 },
 "nbformat": 4,
 "nbformat_minor": 2
}
