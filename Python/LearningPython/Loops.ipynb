{
 "cells": [
  {
   "cell_type": "code",
   "execution_count": null,
   "metadata": {},
   "outputs": [],
   "source": [
    "#Example of loops\n",
    "#while and for\n",
    "#using main() means it is triggered when opened\n",
    "\n",
    "def main():\n",
    "    x = 0\n",
    "    #define a while loop\n",
    "    while (x < 5):\n",
    "        print x\n",
    "        x = x + 1\n",
    "        \n",
    "if __name__ == \"__main__\":\n",
    "    main()"
   ]
  },
  {
   "cell_type": "code",
   "execution_count": null,
   "metadata": {},
   "outputs": [],
   "source": [
    "# Javascript would be for (i=5,i<10,i++)\n",
    "# Second type of loop, it iterates\n",
    "for x in range(5,10):\n",
    "    print x"
   ]
  },
  {
   "cell_type": "code",
   "execution_count": null,
   "metadata": {},
   "outputs": [],
   "source": [
    "#Iterate Through the List\n",
    "days =[\"Mon\",\"tue\",\"Wed\",\"Thu\",\"Fri\",\"Sat\",\"Sun\"]\n",
    "\n",
    "for d in days:\n",
    "    print (d,d)"
   ]
  },
  {
   "cell_type": "code",
   "execution_count": null,
   "metadata": {},
   "outputs": [],
   "source": [
    "#Break is used to stop the execution, good for stoping empty lists\n",
    "\n",
    "for x in range(5,10):\n",
    "    if (x==7): break\n",
    "    print x"
   ]
  },
  {
   "cell_type": "code",
   "execution_count": null,
   "metadata": {},
   "outputs": [],
   "source": [
    "#Continue is used to skip the execution, good for skipping items\n",
    "#Code below will skip even numbers divisible by 2\n",
    "for x in range(5,10):\n",
    "    if (x % 2 == 0): continue\n",
    "    print x"
   ]
  },
  {
   "cell_type": "code",
   "execution_count": null,
   "metadata": {
    "collapsed": true
   },
   "outputs": [],
   "source": []
  }
 ],
 "metadata": {
  "kernelspec": {
   "display_name": "Python 2",
   "language": "python",
   "name": "python2"
  },
  "language_info": {
   "codemirror_mode": {
    "name": "ipython",
    "version": 2
   },
   "file_extension": ".py",
   "mimetype": "text/x-python",
   "name": "python",
   "nbconvert_exporter": "python",
   "pygments_lexer": "ipython2",
   "version": "2.7.14"
  }
 },
 "nbformat": 4,
 "nbformat_minor": 2
}
