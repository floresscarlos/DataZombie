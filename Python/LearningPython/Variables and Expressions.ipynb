{
 "cells": [
  {
   "cell_type": "code",
   "execution_count": null,
   "metadata": {
    "collapsed": true
   },
   "outputs": [],
   "source": [
    "#Looping through a list\n",
    "range = [1,2,4]\n",
    "\n",
    "#To check the attribute of an item\n",
    "type(range)\n",
    "\n",
    "#For loop\n",
    "for i in range:\n",
    "    print i"
   ]
  },
  {
   "cell_type": "code",
   "execution_count": null,
   "metadata": {
    "collapsed": true
   },
   "outputs": [],
   "source": [
    "#Raw input and concacenation\n",
    "Name = raw_input()\n",
    "LastName = raw_input()\n",
    "print(Name + \" \" + LastName)"
   ]
  },
  {
   "cell_type": "code",
   "execution_count": null,
   "metadata": {
    "collapsed": true
   },
   "outputs": [],
   "source": [
    "#Tutorial\n",
    "#defining a function\n",
    "def main():\n",
    "    print \"hello world!\"\n",
    "    \n",
    "#defines if its used as a program, or a library\n",
    "# if its true, it will run it automatically\n",
    "# if its false, it will be a library you can call at a later time\n",
    "if __name__ == \"__main__\": #change this to false and nothing happens\n",
    "    main()"
   ]
  },
  {
   "cell_type": "code",
   "execution_count": null,
   "metadata": {
    "collapsed": true
   },
   "outputs": [],
   "source": [
    "#Declaring Variables\n",
    "f = 0;\n",
    "print f;"
   ]
  },
  {
   "cell_type": "code",
   "execution_count": null,
   "metadata": {
    "collapsed": true
   },
   "outputs": [],
   "source": [
    "#Casting interger and strings\n",
    "print \"string type \" + str(123)"
   ]
  },
  {
   "cell_type": "code",
   "execution_count": null,
   "metadata": {
    "collapsed": true
   },
   "outputs": [],
   "source": [
    "#Global vs Local variables\n",
    "def someFunction():\n",
    "    f =\"def\"\n",
    "    print f\n",
    "    \n",
    "someFunction() #someFunction calls local variable above    \n",
    "print f    #f calls the global variable we called on line 22"
   ]
  },
  {
   "cell_type": "code",
   "execution_count": null,
   "metadata": {
    "collapsed": true
   },
   "outputs": [],
   "source": [
    "#If you define that its global, it will overwrite it everywhere\n",
    "def someFunction():\n",
    "    global f\n",
    "    f =\"def\"\n",
    "    print f\n",
    "    \n",
    "someFunction() \n",
    "print f "
   ]
  },
  {
   "cell_type": "code",
   "execution_count": null,
   "metadata": {
    "collapsed": true
   },
   "outputs": [],
   "source": [
    "#Remove variable\n",
    "del f\n",
    "print f #Errors as expected"
   ]
  }
 ],
 "metadata": {
  "kernelspec": {
   "display_name": "Python 2",
   "language": "python",
   "name": "python2"
  },
  "language_info": {
   "codemirror_mode": {
    "name": "ipython",
    "version": 2
   },
   "file_extension": ".py",
   "mimetype": "text/x-python",
   "name": "python",
   "nbconvert_exporter": "python",
   "pygments_lexer": "ipython2",
   "version": "2.7.14"
  }
 },
 "nbformat": 4,
 "nbformat_minor": 2
}
