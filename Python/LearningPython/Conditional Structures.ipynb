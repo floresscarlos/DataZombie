{
 "cells": [
  {
   "cell_type": "code",
   "execution_count": null,
   "metadata": {},
   "outputs": [],
   "source": [
    "# Simple example of two variables and using elif statements\n",
    "def main():\n",
    "    x,y = 1000,1000\n",
    "    \n",
    "    if(x < y):\n",
    "        st='x is less than y'\n",
    "    elif(y == x):\n",
    "        st='y is same as x'\n",
    "    else:\n",
    "        st=' y is more than x'\n",
    "    print st\n",
    "    \n",
    "if __name__ == \"__main__\":\n",
    "    main()"
   ]
  },
  {
   "cell_type": "code",
   "execution_count": null,
   "metadata": {},
   "outputs": [],
   "source": [
    "#Second example\n",
    "#conditional statement\n",
    "x,y = 1000,1000\n",
    "\n",
    "st = \"x is less than y\" if (x < y) else \"x is greater than y\" if (y < x) else \"x is equal to y\"\n",
    "print st\n",
    "\n"
   ]
  },
  {
   "cell_type": "code",
   "execution_count": null,
   "metadata": {
    "collapsed": true
   },
   "outputs": [],
   "source": []
  },
  {
   "cell_type": "code",
   "execution_count": null,
   "metadata": {
    "collapsed": true
   },
   "outputs": [],
   "source": []
  }
 ],
 "metadata": {
  "kernelspec": {
   "display_name": "Python 2",
   "language": "python",
   "name": "python2"
  },
  "language_info": {
   "codemirror_mode": {
    "name": "ipython",
    "version": 2
   },
   "file_extension": ".py",
   "mimetype": "text/x-python",
   "name": "python",
   "nbconvert_exporter": "python",
   "pygments_lexer": "ipython2",
   "version": "2.7.14"
  }
 },
 "nbformat": 4,
 "nbformat_minor": 2
}
