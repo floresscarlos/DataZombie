{
 "cells": [
  {
   "cell_type": "code",
   "execution_count": null,
   "metadata": {},
   "outputs": [],
   "source": [
    "#Keeping functionality together\n",
    "#Creating Classes\n",
    "class myClass():\n",
    "    def method1(self):\n",
    "        print \"myClass method1\"\n",
    "        \n",
    "    def method2(self, someString):\n",
    "        print \"myClass method2: \" + someString\n",
    "\n",
    "        \n",
    "def main():\n",
    "    c = myClass()\n",
    "    c.method1() #Call the method from myClass()\n",
    "    c.method2(\"This is a string\")\n",
    "    \n",
    "    \n",
    "if __name__ == \"__main__\":\n",
    "    main()\n",
    "    \n"
   ]
  },
  {
   "cell_type": "code",
   "execution_count": null,
   "metadata": {
    "collapsed": true
   },
   "outputs": [],
   "source": []
  }
 ],
 "metadata": {
  "kernelspec": {
   "display_name": "Python 2",
   "language": "python",
   "name": "python2"
  },
  "language_info": {
   "codemirror_mode": {
    "name": "ipython",
    "version": 2
   },
   "file_extension": ".py",
   "mimetype": "text/x-python",
   "name": "python",
   "nbconvert_exporter": "python",
   "pygments_lexer": "ipython2",
   "version": "2.7.14"
  }
 },
 "nbformat": 4,
 "nbformat_minor": 2
}
