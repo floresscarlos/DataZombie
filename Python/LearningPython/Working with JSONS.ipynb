{
 "cells": [
  {
   "cell_type": "code",
   "execution_count": null,
   "metadata": {
    "collapsed": true
   },
   "outputs": [],
   "source": [
    "#Working with JSONS"
   ]
  },
  {
   "cell_type": "code",
   "execution_count": null,
   "metadata": {},
   "outputs": [],
   "source": [
    "import urllib2\n",
    "import json\n",
    "\n",
    "def printResults(data):\n",
    "    theJSON = json.loads(data) #gives native python object\n",
    "    \n",
    "    #REad the title\n",
    "    if \"title\" in theJSON[\"metadata\"]:\n",
    "        print JSON[\"metadata\"][\"title\"]\n",
    "\n",
    "    #Output the number of events, plus the magnitude\n",
    "    count = theJSON[\"metadata\"][\"count\"];\n",
    "    print str(count) + \" events recorded\"\n",
    "\n",
    "    #for each event, print the place where it occured\n",
    "    for i in theJSON[\"features\"]:\n",
    "        print i[\"properties\"][\"place\"]\n",
    "        \n",
    "        \n",
    "    #Print only events with magniute greater than 4\n",
    "    for i in theJSON[\"features\"]:\n",
    "        if i[\"properties\"][\"mag\"] >= 4.0:\n",
    "            print \"%2.1f\" % i[\"properties\"][\"mag\"],i[\"properties\"][\"place\"] #uses formatting\n",
    "        \n",
    "        \n",
    "    #Print only events where at least one person felt something\n",
    "    #Say how many times it was reported\n",
    "    for i in theJSON[\"feature\"]:\n",
    "        feltReports = i[\"properties\"][\"felt\"]\n",
    "        if (feltReports != None) & (feltReports > 0):\n",
    "            print \"%2.1f\" % i[\"properties\"][\"mag\"], i[\"properties\"][\"place\"] , \"reported \" + str(feltReports) + \" times\"\n",
    "        \n",
    "def main():\n",
    "    \n",
    "    #Open the JSON\n",
    "    urlData =\"http://earthquake.usgs.gov/earthquakes/feed/v1.0/summary/2.5_day.geojson\"\n",
    "    \n",
    "    #Open URL and read results\n",
    "    webURL = urllib2.urlopen(urlData)\n",
    "    print webUrl.getcode()    \n",
    "    if (webUrl.getcode() == 200): #200 means connection made\n",
    "        data = webUrl.read()\n",
    "        \n",
    "        #print out customized results\n",
    "        printResults(data)\n",
    "    else:\n",
    "        print \"Received an error from server, cannot retrieve results \" + str(webUrl.getcode())\n",
    "    \n",
    "    urlData = 'url_for_JSON'\n",
    "\n",
    "    \n",
    "if __name__ == \"__main__\":\n",
    "    main()"
   ]
  },
  {
   "cell_type": "code",
   "execution_count": null,
   "metadata": {
    "collapsed": true
   },
   "outputs": [],
   "source": []
  }
 ],
 "metadata": {
  "kernelspec": {
   "display_name": "Python 2",
   "language": "python",
   "name": "python2"
  },
  "language_info": {
   "codemirror_mode": {
    "name": "ipython",
    "version": 2
   },
   "file_extension": ".py",
   "mimetype": "text/x-python",
   "name": "python",
   "nbconvert_exporter": "python",
   "pygments_lexer": "ipython2",
   "version": "2.7.14"
  }
 },
 "nbformat": 4,
 "nbformat_minor": 2
}
