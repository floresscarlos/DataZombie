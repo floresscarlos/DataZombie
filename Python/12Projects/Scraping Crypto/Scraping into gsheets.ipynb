{
 "cells": [
  {
   "cell_type": "code",
   "execution_count": null,
   "metadata": {},
   "outputs": [],
   "source": [
    "import pandas as pd\n",
    "import numpy as np\n",
    "import json\n",
    "import requests\n",
    "from urllib2 import urlopen\n",
    "from pandas.io.json import json_normalize \n",
    "from oauth2client.service_account import ServiceAccountCredentials\n",
    "import gspread\n",
    "\n",
    "#Client Login\n",
    "scope = ['https://spreadsheets.google.com/feeds']\n",
    "creds = ServiceAccountCredentials.from_json_keyfile_name('client_secret.json',scope)\n",
    "client = gspread.authorize(creds)\n",
    "#Sheets to use\n",
    "sheet2 = client.open(\"Scraping\").worksheet('30Days')\n",
    "sheet = client.open(\"Scraping\").worksheet('Coins')\n",
    "\n",
    "#GET COIN LIST\n",
    "stats = sheet.col_values(1) #select column A\n",
    "del stats[0] #Do not count the title\n",
    "coinlist = stats[:3] #Select top 3\n",
    "print(coinlist) #Print to test it works\n",
    "day30 = [] #Create empty 30 day\n",
    "\n",
    "\n",
    "#GET DATA \n",
    "for item in coinlist:\n",
    "\ttry:\n",
    "\t\turl = urlopen(\"https://min-api.cryptocompare.com/data/histoday?fsym=\"+item+\"&tsym=USD&limit=30\").read().decode()\n",
    "\t\tBitter = json.loads(url)\n",
    "\t\tdf = json_normalize(Bitter['Data'])\n",
    "\t\tdf2 = pd.DataFrame(df['close'])\n",
    "\t\tday30.append(item)\n",
    "\t\tfor row in df2['close']:\n",
    "\t\t\t\n",
    "\t\t\tday30.append(row)\n",
    "\t\tprint(\"Added \"+item)\n",
    "\texcept KeyError:\n",
    "\t\tprint(\"mistakes happen: \"+item+\" take a look at this Ced\")\n",
    "\n",
    "#DECLARE CELLS TO BE UPDATED\n",
    "x = 0\n",
    "cell_list = sheet2.range('A1:AF20')\n",
    "for cell in cell_list:\n",
    "    cell.value = day30[x]\n",
    "    x = x + 1\n",
    "    if x >= len(day30):\n",
    "        break;\n",
    "\n",
    "# Update in batch\n",
    "sheet2.update_cells(cell_list)\n",
    "print(\"Finished Updating\")"
   ]
  },
  {
   "cell_type": "code",
   "execution_count": null,
   "metadata": {},
   "outputs": [],
   "source": [
    "import os\n",
    "os.system(\"scp caflores@ltx1-holdemgw01.grid.linkedin.com:/export/home/caflores/edu.csv ~/Desktop/\")"
   ]
  },
  {
   "cell_type": "code",
   "execution_count": null,
   "metadata": {},
   "outputs": [],
   "source": [
    "import os\n",
    "os.system(\"scp caflores@lva1-insights01.linkedin.biz:/export/apps/lms_cf_projects/iceCream/iceCreamFlavors.csv ~/Desktop/\")"
   ]
  },
  {
   "cell_type": "code",
   "execution_count": null,
   "metadata": {},
   "outputs": [],
   "source": [
    "import os\n",
    "os.system(\"ssh -k lva1-insights01.linkedin.biz\")"
   ]
  },
  {
   "cell_type": "code",
   "execution_count": null,
   "metadata": {
    "collapsed": true
   },
   "outputs": [],
   "source": []
  }
 ],
 "metadata": {
  "kernelspec": {
   "display_name": "Python 2",
   "language": "python",
   "name": "python2"
  },
  "language_info": {
   "codemirror_mode": {
    "name": "ipython",
    "version": 2
   },
   "file_extension": ".py",
   "mimetype": "text/x-python",
   "name": "python",
   "nbconvert_exporter": "python",
   "pygments_lexer": "ipython2",
   "version": "2.7.14"
  }
 },
 "nbformat": 4,
 "nbformat_minor": 2
}
