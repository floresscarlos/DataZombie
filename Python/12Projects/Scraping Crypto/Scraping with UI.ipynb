{
 "cells": [
  {
   "cell_type": "markdown",
   "metadata": {},
   "source": [
    "<b>Building a UI for a web Scraper <b>"
   ]
  },
  {
   "cell_type": "code",
   "execution_count": null,
   "metadata": {},
   "outputs": [],
   "source": [
    "import requests\n",
    "import json\n",
    "\n",
    "#Define URLs\n",
    "globalURL = \"https://api.coinmarketcap.com/v1/global/\"\n",
    "tickerURL = \"https://api.coinmarketcap.com/v1/ticker/\"\n",
    "\n",
    "#Get Data from API\n",
    "request = requests.get(globalURL)\n",
    "data = request.json()\n",
    "globalMarketCap = data['total_market_cap_usd']\n",
    "\n",
    "#Create UI Menu\n",
    "print('Welcome to the CoinMarketCap Visual API')\n",
    "print('\\n')\n",
    "print('Current Market Cap of all Curencies: $' + str(globalMarketCap))\n",
    "print(\"Enter 'all' or name a crypto to see its data (i.e. bitcoin)\")\n",
    "print('\\n')\n",
    "choice = raw_input(\"Your Choice : \")\n",
    "\n",
    "#Validation of choices\n",
    "if choice == 'all':\n",
    "    request = requests.get(tickerURL)\n",
    "    data = request.json()\n",
    "\n",
    "    for item in data:\n",
    "        ticker = item['symbol']\n",
    "        price = item['price_usd']\n",
    "\n",
    "        print(ticker + \":\\t$\" + price + '\\n') #\\t is tab (4 spaces)\n",
    "else:\n",
    "    tickerURL += '/' +str(choice)+ '/'\n",
    "    request = requests.get(tickerURL)\n",
    "    data = request.json()\n",
    "\n",
    "    ticker = data[0]['symbol']\n",
    "    price = data[0]['price_usd']\n",
    "\n",
    "    print(ticker + ':\\t\\t$' + price + '\\n')\n"
   ]
  },
  {
   "cell_type": "code",
   "execution_count": null,
   "metadata": {
    "collapsed": true
   },
   "outputs": [],
   "source": []
  }
 ],
 "metadata": {
  "kernelspec": {
   "display_name": "Python 2",
   "language": "python",
   "name": "python2"
  },
  "language_info": {
   "codemirror_mode": {
    "name": "ipython",
    "version": 2
   },
   "file_extension": ".py",
   "mimetype": "text/x-python",
   "name": "python",
   "nbconvert_exporter": "python",
   "pygments_lexer": "ipython2",
   "version": "2.7.14"
  }
 },
 "nbformat": 4,
 "nbformat_minor": 2
}
