{
 "cells": [
  {
   "cell_type": "code",
   "execution_count": null,
   "metadata": {
    "collapsed": true
   },
   "outputs": [],
   "source": [
    "import requests\n",
    "from bs4 import BeautifulSoup as bs\n",
    "import os\n",
    "#website with model images\n",
    "url = 'https://www.pexels.com/search/model/'"
   ]
  },
  {
   "cell_type": "code",
   "execution_count": null,
   "metadata": {
    "collapsed": true
   },
   "outputs": [],
   "source": [
    "#download page for parsing\n",
    "page = requests.get(url)\n",
    "soup = bs(page.text, 'html.parser')"
   ]
  },
  {
   "cell_type": "code",
   "execution_count": null,
   "metadata": {
    "collapsed": true
   },
   "outputs": [],
   "source": [
    "#locate all elements with image tag\n",
    "image_tags = soup.findAll('img')"
   ]
  },
  {
   "cell_type": "code",
   "execution_count": null,
   "metadata": {
    "collapsed": true
   },
   "outputs": [],
   "source": [
    "#create directory for model images\n",
    "#check if one does not exist\n",
    "if not os.path.exists('models'):\n",
    "    os.makedirs('models')\n",
    "    \n",
    "#move to new directory\n",
    "os.chdir('models')"
   ]
  },
  {
   "cell_type": "code",
   "execution_count": null,
   "metadata": {
    "collapsed": true
   },
   "outputs": [],
   "source": [
    "#variable for image to not be the same\n",
    "x = 0"
   ]
  },
  {
   "cell_type": "code",
   "execution_count": null,
   "metadata": {
    "collapsed": true
   },
   "outputs": [],
   "source": [
    "#writing images\n",
    "for image in image_tags:\n",
    "    try:\n",
    "        url = image['src']\n",
    "        source = requests.get(url)\n",
    "        if source.status_code == 200:\n",
    "            with open('model -' + str(x) + '.jpg', 'wb') as f:\n",
    "                f.write(requests.get(url).content)\n",
    "                f.close()\n",
    "                x += 1\n",
    "                \n",
    "    except:\n",
    "        pass"
   ]
  },
  {
   "cell_type": "code",
   "execution_count": null,
   "metadata": {
    "collapsed": true
   },
   "outputs": [],
   "source": [
    "#Everything together\n",
    "import requests\n",
    "from bs4 import BeautifulSoup as bs\n",
    "import os\n",
    "#website with model images\n",
    "url = 'https://www.pexels.com/search/model/'\n",
    "\n",
    "#download page for parsing\n",
    "page = requests.get(url)\n",
    "soup = bs(page.text, 'html.parser')\n",
    "\n",
    "#locate all elements with image tag\n",
    "image_tags = soup.findAll('img')\n",
    "\n",
    "#create directory for model images\n",
    "#check if one does not exist\n",
    "if not os.path.exists('models'):\n",
    "    os.makedirs('models')\n",
    "    \n",
    "    \n",
    "#move to new directory\n",
    "os.chdir('models')\n",
    "    \n",
    "#variable for image to not be the same\n",
    "x = 0\n",
    "\n",
    "#writing images\n",
    "for image in image_tags:\n",
    "    try:\n",
    "        url = image['src']\n",
    "        source = requests.get(url)\n",
    "        if source.status_code == 200:\n",
    "            with open('model -' + str(x) + '.jpg', 'wb') as f:\n",
    "                f.write(requests.get(url).content)\n",
    "                f.close()\n",
    "                x += 1\n",
    "                \n",
    "    except:\n",
    "        pass"
   ]
  },
  {
   "cell_type": "code",
   "execution_count": null,
   "metadata": {},
   "outputs": [],
   "source": [
    "cwd = os.getcwd()\n",
    "print cwd"
   ]
  },
  {
   "cell_type": "code",
   "execution_count": null,
   "metadata": {
    "collapsed": true
   },
   "outputs": [],
   "source": []
  }
 ],
 "metadata": {
  "kernelspec": {
   "display_name": "Python 2",
   "language": "python",
   "name": "python2"
  },
  "language_info": {
   "codemirror_mode": {
    "name": "ipython",
    "version": 2
   },
   "file_extension": ".py",
   "mimetype": "text/x-python",
   "name": "python",
   "nbconvert_exporter": "python",
   "pygments_lexer": "ipython2",
   "version": "2.7.14"
  }
 },
 "nbformat": 4,
 "nbformat_minor": 2
}
