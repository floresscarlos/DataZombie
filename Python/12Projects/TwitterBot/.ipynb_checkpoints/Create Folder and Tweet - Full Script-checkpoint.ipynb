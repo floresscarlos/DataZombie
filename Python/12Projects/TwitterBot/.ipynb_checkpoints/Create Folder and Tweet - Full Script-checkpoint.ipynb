{
 "cells": [
  {
   "cell_type": "code",
   "execution_count": null,
   "metadata": {
    "collapsed": true
   },
   "outputs": [],
   "source": [
    "## Step 1 ##\n",
    "# Pull Pictures\n",
    "\n",
    "## Step 2 ##\n",
    "# Post to Twitter"
   ]
  },
  {
   "cell_type": "code",
   "execution_count": null,
   "metadata": {
    "collapsed": true
   },
   "outputs": [],
   "source": [
    "#Everything together\n",
    "import requests\n",
    "from bs4 import BeautifulSoup as bs\n",
    "import os\n",
    "#website with model images\n",
    "url = 'https://www.pexels.com/search/kittens/'\n",
    "\n",
    "#download page for parsing\n",
    "page = requests.get(url)\n",
    "soup = bs(page.text, 'html.parser')\n",
    "\n",
    "#locate all elements with image tag\n",
    "image_tags = soup.findAll('img')\n",
    "\n",
    "#create directory for model images\n",
    "#check if one does not exist\n",
    "if not os.path.exists('models'):\n",
    "    os.makedirs('models')\n",
    "    \n",
    "    \n",
    "#move to new directory\n",
    "os.chdir('models')\n",
    "    \n",
    "#variable for image to not be the same\n",
    "x = 0\n",
    "\n",
    "#writing images\n",
    "for image in image_tags:\n",
    "    try:\n",
    "        url = image['src']\n",
    "        source = requests.get(url)\n",
    "        if source.status_code == 200:\n",
    "            with open('model -' + str(x) + '.jpg', 'wb') as f:\n",
    "                f.write(requests.get(url).content)\n",
    "                f.close()\n",
    "                x += 1\n",
    "                \n",
    "    except:\n",
    "        pass"
   ]
  },
  {
   "cell_type": "code",
   "execution_count": null,
   "metadata": {
    "collapsed": true
   },
   "outputs": [],
   "source": [
    "#themodels\n",
    "import tweepy as tp\n",
    "import time\n",
    "import os\n",
    "\n",
    "#credentials to login to twitter api\n",
    "\n",
    "## Twitter Credentials ##\n",
    "consumer_key = '6DI6Z1dgRHDvrWXQCfgRKBaWn'\n",
    "consumer_secret = 'HYdadkisuka2XQdttE186rK3ZXwZwIczrWvfGan79kiud2JI1a'\n",
    "access_token = '954192403753086976-9BXH66iOhTbvlzeANEDwoMyHTF5RQLx'\n",
    "access_secret = 'ijBGtHnu3dKr1jzzeKjOgs4prTfQtb3GC498rnrSqwXfc'\n",
    "\n",
    "#login to twitter account api\n",
    "auth = tp.OAuthHandler( consumer_key, consumer_secret )\n",
    "auth.set_access_token( access_token, access_secret )\n",
    "api = tp.API(auth)\n",
    "\n",
    "# iterates over pictures in models folder\n",
    "# os.chdir('models')\n",
    "for model_image in os.listdir('.'):\n",
    "    api.update_with_media(model_image)\n",
    "    time.sleep(400)\n",
    "    \n",
    "    api"
   ]
  },
  {
   "cell_type": "code",
   "execution_count": null,
   "metadata": {
    "collapsed": true
   },
   "outputs": [],
   "source": []
  }
 ],
 "metadata": {
  "kernelspec": {
   "display_name": "Python 2",
   "language": "python",
   "name": "python2"
  },
  "language_info": {
   "codemirror_mode": {
    "name": "ipython",
    "version": 2
   },
   "file_extension": ".py",
   "mimetype": "text/x-python",
   "name": "python",
   "nbconvert_exporter": "python",
   "pygments_lexer": "ipython2",
   "version": "2.7.14"
  }
 },
 "nbformat": 4,
 "nbformat_minor": 2
}
