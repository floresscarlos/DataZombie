{
 "cells": [
  {
   "cell_type": "code",
   "execution_count": null,
   "metadata": {
    "collapsed": true
   },
   "outputs": [],
   "source": [
    "#themodels\n",
    "import tweepy as tp\n",
    "import time\n",
    "import os\n",
    "\n",
    "#credentials to login to twitter api\n",
    "\n",
    "## Twitter Credentials ##\n",
    "consumer_key = '6DI6Z1dgRHDvrWXQCfgRKBaWn'\n",
    "consumer_secret = 'HYdadkisuka2XQdttE186rK3ZXwZwIczrWvfGan79kiud2JI1a'\n",
    "access_token = '954192403753086976-9BXH66iOhTbvlzeANEDwoMyHTF5RQLx'\n",
    "access_secret = 'ijBGtHnu3dKr1jzzeKjOgs4prTfQtb3GC498rnrSqwXfc'\n",
    "\n",
    "#login to twitter account api\n",
    "auth = tp.OAuthHandler( consumer_key, consumer_secret )\n",
    "auth.set_access_token( access_token, access_secret )\n",
    "api = tp.API(auth)\n",
    "\n",
    "# iterates over pictures in models folder\n",
    "api.update(\"Hello\")"
   ]
  },
  {
   "cell_type": "code",
   "execution_count": null,
   "metadata": {
    "collapsed": true
   },
   "outputs": [],
   "source": [
    "cwd = os.getcwd()\n",
    "print cwd"
   ]
  },
  {
   "cell_type": "code",
   "execution_count": null,
   "metadata": {
    "collapsed": true
   },
   "outputs": [],
   "source": []
  }
 ],
 "metadata": {
  "kernelspec": {
   "display_name": "Python 2",
   "language": "python",
   "name": "python2"
  },
  "language_info": {
   "codemirror_mode": {
    "name": "ipython",
    "version": 2
   },
   "file_extension": ".py",
   "mimetype": "text/x-python",
   "name": "python",
   "nbconvert_exporter": "python",
   "pygments_lexer": "ipython2",
   "version": "2.7.14"
  }
 },
 "nbformat": 4,
 "nbformat_minor": 2
}
