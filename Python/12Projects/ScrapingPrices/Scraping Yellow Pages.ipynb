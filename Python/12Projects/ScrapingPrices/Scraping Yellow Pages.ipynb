{
 "cells": [
  {
   "cell_type": "code",
   "execution_count": null,
   "metadata": {
    "collapsed": true
   },
   "outputs": [],
   "source": [
    "url = 'https://www.yellowpages.com/search?search_terms=Thai&geo_location_terms=San+Francisco%2C+CA'"
   ]
  },
  {
   "cell_type": "code",
   "execution_count": null,
   "metadata": {
    "collapsed": true
   },
   "outputs": [],
   "source": [
    "import requests\n",
    "from bs4 import BeautifulSoup"
   ]
  },
  {
   "cell_type": "code",
   "execution_count": null,
   "metadata": {},
   "outputs": [],
   "source": [
    "r = requests.get(url)\n",
    "soup = BeautifulSoup(r.content, \"html.parser\")"
   ]
  },
  {
   "cell_type": "code",
   "execution_count": null,
   "metadata": {},
   "outputs": [],
   "source": [
    "#Find each container block to explore\n",
    "item_containers = soup.findAll(\"div\",{\"class\":\"info\"})\n",
    "\n",
    "#Pick a single item from the containers to test easier\n",
    "single_item = item_containers[0]\n",
    "\n",
    "#To explore contents inside an item, alternate way to scrape\n",
    "# single_item.contents\n",
    "\n",
    "#Select title this way as well\n",
    "# print single_item.contents[0].text"
   ]
  },
  {
   "cell_type": "code",
   "execution_count": null,
   "metadata": {},
   "outputs": [],
   "source": [
    "#You can use findAll to pull most elements from this webpage\n",
    "title = single_item.findAll(\"span\",{\"itemprop\":\"name\"})\n",
    "address = single_item.findAll(\"span\",{\"itemprop\":\"streetAddress\"})\n",
    "webpage = single_item.findAll(\"a\",{\"class\":\"track-visit-website\"})\n",
    "\n",
    "print title[0].text\n",
    "print address[0].text\n",
    "print webpage[0].get(\"href\")"
   ]
  },
  {
   "cell_type": "code",
   "execution_count": null,
   "metadata": {},
   "outputs": [],
   "source": [
    "#looping for all items\n",
    "for item in item_containers:\n",
    "\n",
    "    title = item.findAll(\"span\",{\"itemprop\":\"name\"})\n",
    "    address = item.findAll(\"span\",{\"itemprop\":\"streetAddress\"})\n",
    "    webpage = item.findAll(\"a\",{\"class\":\"track-visit-website\"})\n",
    "\n",
    "    print title[0].text\n",
    "    print address[0].text\n",
    "#     print webpage[0].get(\"href\")"
   ]
  },
  {
   "cell_type": "code",
   "execution_count": null,
   "metadata": {
    "collapsed": true
   },
   "outputs": [],
   "source": []
  }
 ],
 "metadata": {
  "kernelspec": {
   "display_name": "Python 2",
   "language": "python",
   "name": "python2"
  },
  "language_info": {
   "codemirror_mode": {
    "name": "ipython",
    "version": 2
   },
   "file_extension": ".py",
   "mimetype": "text/x-python",
   "name": "python",
   "nbconvert_exporter": "python",
   "pygments_lexer": "ipython2",
   "version": "2.7.14"
  }
 },
 "nbformat": 4,
 "nbformat_minor": 2
}
