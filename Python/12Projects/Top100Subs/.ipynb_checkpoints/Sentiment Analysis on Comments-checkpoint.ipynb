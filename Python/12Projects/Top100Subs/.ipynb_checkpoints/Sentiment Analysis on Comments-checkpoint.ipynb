{
 "cells": [
  {
   "cell_type": "code",
   "execution_count": null,
   "metadata": {
    "collapsed": true
   },
   "outputs": [],
   "source": [
    "Analysis of top 100"
   ]
  },
  {
   "cell_type": "code",
   "execution_count": null,
   "metadata": {},
   "outputs": [],
   "source": [
    "import praw\n",
    "from textblob import TextBlob\n",
    "import math\n",
    "\n",
    "reddit = praw.Reddit(client_id='J9UtKaHOi5NQqQ',\n",
    "                     client_secret='GTXBnbFRVd2yzK9KlyUK4JNIHMc',\n",
    "                     user_agent='Sub-Sentiment')\n",
    "\n",
    "with open('sb.txt') as f:\n",
    "    \n",
    "    day_start = 1484870400 \n",
    "    day_end = 1484956799\n",
    "    \n",
    "    for line in f:\n",
    "        subreddit = reddit.subreddit(line.strip())\n",
    "        \n",
    "        sub_submissions = subreddit.submissions(day_start, day_end)\n",
    "        \n",
    "        sub_sentiment = 0\n",
    "        num_comments = 0\n",
    "        \n",
    "        for submission in sub_submissions:\n",
    "            if not submission.stickied:\n",
    "                submission.comments.replace_more(limit=0)\n",
    "                for comment in submission.comments.list():\n",
    "                    blob = TextBlob(comment.body)\n",
    "                \n",
    "                    comment_sentiment = blob.sentiment.polarity\n",
    "                    sub_sentiment += comment_sentiment\n",
    "\n",
    "                    num_comments += 1\n",
    "                \n",
    "        print('/r/' + str(subreddit.display_name))\n",
    "        try:\n",
    "            print ('Ratio' + str(math.floor(sub_sentiment/num_comments*100)) + ' \\n')\n",
    "        except:\n",
    "            print('No comment sentment. ' + '\\n')\n",
    "            ZeroDivisionError"
   ]
  },
  {
   "cell_type": "code",
   "execution_count": null,
   "metadata": {
    "collapsed": true
   },
   "outputs": [],
   "source": []
  }
 ],
 "metadata": {
  "kernelspec": {
   "display_name": "Python 2",
   "language": "python",
   "name": "python2"
  },
  "language_info": {
   "codemirror_mode": {
    "name": "ipython",
    "version": 2
   },
   "file_extension": ".py",
   "mimetype": "text/x-python",
   "name": "python",
   "nbconvert_exporter": "python",
   "pygments_lexer": "ipython2",
   "version": "2.7.14"
  }
 },
 "nbformat": 4,
 "nbformat_minor": 2
}
