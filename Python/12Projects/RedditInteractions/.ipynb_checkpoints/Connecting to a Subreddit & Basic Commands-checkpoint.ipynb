{
 "cells": [
  {
   "cell_type": "code",
   "execution_count": null,
   "metadata": {},
   "outputs": [],
   "source": [
    "#Reddit Praw\n",
    "import praw\n",
    "\n",
    "reddit = praw.Reddit(client_id ='fMjmoF4WhgC3GQ',\n",
    "                     client_secret = '3rSKPiTRQkh3xLdRt4nSoxMszAk',\n",
    "                     username='finally2013',\n",
    "                     password='celaya',\n",
    "                     user_agent='prawInteractions')\n",
    "\n",
    "#Select subreddit\n",
    "subreddit = reddit.subreddit('python')\n",
    "\n",
    "#Select only the 'hot' tab, as opposed to new or trending\n",
    "hot_python = subreddit.hot(limit=5)\n",
    "\n",
    "#Print submission\n",
    "for submission in hot_python:\n",
    "    if not submission.stickied:\n",
    "#         print(submission)\n",
    "#         print(dir(submission)) #this will show you whats available in an object\n",
    "        print(submission.title) #Prints the title\n",
    "        print(submission.author) #Prints the title\n",
    "    \n",
    "        "
   ]
  },
  {
   "cell_type": "code",
   "execution_count": null,
   "metadata": {
    "collapsed": true
   },
   "outputs": [],
   "source": [
    "#Removing stickies\n",
    "for submission in hot_python:\n",
    "    if not submission.stickied:\n",
    "        print(submission.title)"
   ]
  },
  {
   "cell_type": "code",
   "execution_count": null,
   "metadata": {},
   "outputs": [],
   "source": [
    "#Select subreddit\n",
    "subreddit = reddit.subreddit('python')\n",
    "\n",
    "#Select only the 'hot' tab, as opposed to new or trending\n",
    "hot_python = subreddit.hot(limit=5)\n",
    "#additional Attribute examples\n",
    "#Removing stickies\n",
    "for submission in hot_python:\n",
    "    if not submission.stickied:\n",
    "        print('Title: {}, Ups: {}, Downs: {}, Have we visitied : {}'.format(submission.title,\n",
    "                                                                            submission.ups,\n",
    "                                                                            submission.downs,\n",
    "                                                                            submission.visited))\n",
    "    \n",
    "#         .upvote() #Never use these as a bot!\n",
    "#         .downvote() #Never use!\n",
    "#         .reply()\n",
    "#         .subscribe()\n",
    "#         .unsubscribe()"
   ]
  },
  {
   "cell_type": "code",
   "execution_count": null,
   "metadata": {
    "collapsed": true
   },
   "outputs": [],
   "source": [
    "#How to subscribe\n",
    "subreddit.subscribe()"
   ]
  },
  {
   "cell_type": "code",
   "execution_count": null,
   "metadata": {},
   "outputs": [],
   "source": [
    "#Select subreddit\n",
    "subreddit = reddit.subreddit('python')\n",
    "\n",
    "#Select only the 'hot' tab, as opposed to new or trending\n",
    "hot_python = subreddit.hot(limit=5)\n",
    "\n",
    "#Comments & Replies\n",
    "for submission in hot_python:\n",
    "    if not submission.stickied:\n",
    "        print('Title: {}, Ups: {}, Downs: {}, Have we visitied : {}'.format(submission.title,\n",
    "                                                                            submission.ups,\n",
    "                                                                            submission.downs,\n",
    "                                                                            submission.visited))\n",
    "        \n",
    "        #Get Comments\n",
    "        comments = submission.comments\n",
    "\n",
    "        #Print body of ALL\n",
    "        for comment in comments:\n",
    "            print(20*'-')\n",
    "            print(comment.body)\n",
    "\n",
    "            #Add this to get replies of comments\n",
    "            if len(comment.replies) > 0:\n",
    "                for reply in comment.replies:\n",
    "                    print('REPLY:', reply.body)"
   ]
  },
  {
   "cell_type": "code",
   "execution_count": null,
   "metadata": {},
   "outputs": [],
   "source": [
    "#Select subreddit\n",
    "subreddit = reddit.subreddit('python')\n",
    "\n",
    "#Select only the 'hot' tab, as opposed to new or trending\n",
    "hot_python = subreddit.hot(limit=5)\n",
    "\n",
    "#Better way of getting ALL comments without looping\n",
    "for submission in hot_python:\n",
    "    if not submission.stickied:\n",
    "        print('Title: {}, Ups: {}, Downs: {}, Have we visitied : {}'.format(submission.title,\n",
    "                                                                            submission.ups,\n",
    "                                                                            submission.downs,\n",
    "                                                                            submission.visited))\n",
    "        \n",
    "        #Get Comments for ALL using list\n",
    "        comments = submission.comments.list()\n",
    "\n",
    "        for comment in comments:\n",
    "            print(20*'-')\n",
    "            print('Comment ID:', comment.id)\n",
    "            print(comment.body)"
   ]
  }
 ],
 "metadata": {
  "kernelspec": {
   "display_name": "Python 2",
   "language": "python",
   "name": "python2"
  },
  "language_info": {
   "codemirror_mode": {
    "name": "ipython",
    "version": 2
   },
   "file_extension": ".py",
   "mimetype": "text/x-python",
   "name": "python",
   "nbconvert_exporter": "python",
   "pygments_lexer": "ipython2",
   "version": "2.7.14"
  }
 },
 "nbformat": 4,
 "nbformat_minor": 2
}
