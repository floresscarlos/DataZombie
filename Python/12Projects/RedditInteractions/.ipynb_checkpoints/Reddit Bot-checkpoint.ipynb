{
 "cells": [
  {
   "cell_type": "code",
   "execution_count": null,
   "metadata": {
    "collapsed": true
   },
   "outputs": [],
   "source": [
    "Ideas: Bitcoin BOT!\n"
   ]
  },
  {
   "cell_type": "code",
   "execution_count": null,
   "metadata": {
    "collapsed": true
   },
   "outputs": [],
   "source": [
    "#Creating a reddit bot to detect spam\n",
    "#Make a separate file for credentials (praw_creds.py)\n",
    "\n",
    "client_id = ''\n",
    "cleint_Secret = ''\n",
    "password = ''\n",
    "user_agent = ''\n",
    "username = ''\n",
    "\n",
    "#Then import for security (you can encode as well)\n",
    "from praw_creds import client_id, client_secret, password, user_agent, username"
   ]
  },
  {
   "cell_type": "code",
   "execution_count": null,
   "metadata": {},
   "outputs": [],
   "source": [
    "import praw\n",
    "import random\n",
    "import time\n",
    "import getpass\n",
    "\n",
    "\n",
    "password = getpass.getpass()\n",
    "reddit = praw.Reddit(client_id ='fMjmoF4WhgC3GQ',\n",
    "                     client_secret = '3rSKPiTRQkh3xLdRt4nSoxMszAk',\n",
    "                     username='finally2013',\n",
    "                     password=password,\n",
    "                     user_agent='prawInteractions')\n",
    "\n",
    "#To search for in titles\n",
    "common_spammy_words = ['udemy','course','save','coupon','free','discount']\n",
    "\n",
    "#Define a function we can call, this function appends authors that have Udemy\n",
    "def find_spam_by_name(search_query):\n",
    "    authors = [] #Create empty list to insert authors\n",
    "    for submission in reddit.subreddit(\"all\").search(search_query, sort=\"new\", limit=11):\n",
    "#         print(submission.title, submission.author, submission.url)\n",
    "        if submission.author not in authors:\n",
    "            authors.append(submission.author)\n",
    "    return authors\n",
    "    \n",
    "    \n",
    "if __name__ == '__main__':\n",
    "    while True:\n",
    "        current_Search_Query = random.choice([\"udemy\"])\n",
    "        spam_content = []\n",
    "        trashy_users = {}\n",
    "        smelly_authors = find_spam_by_name(current_search_query)\n",
    "        \n",
    "        #Check from smelly authors which content is bad\n",
    "        for author in smelly_authors:\n",
    "            user_trashy_urls = []\n",
    "            sub_count = 0\n",
    "            dirty_count = 0\n",
    "            \n",
    "            #Check if they have trashy urls\n",
    "            try:\n",
    "                for sub in reddit.redditor(str(author)).submissions.new():\n",
    "                    submit_links_to = sub.url\n",
    "                    submit_id = sub.id\n",
    "                    submit_subreddit = sub.subreddit\n",
    "                    submit_title = sub.title\n",
    "                    dirty = False #We begin thinking its false\n",
    "                    for w in common_spammy_words:\n",
    "                        if w in submit_title.lower():\n",
    "                            dirty = True #We flag as dirty if it contains a word\n",
    "                            junk = [submit_id, submit_title]\n",
    "                            if junk not in user_trashy_urls:\n",
    "                                user_trashy_urls.append([submit_id, submit_title,str(author)])\n",
    "                                \n",
    "                    if dirty:\n",
    "                        dirty_count+=1\n",
    "                    sub_count+=1\n",
    "                    \n",
    "            \n",
    "                #Create a thrashy score\n",
    "                try:\n",
    "                    trashy_score = dirty_count/sub_count\n",
    "                except: trashy_score = 0.0 #Handle divide by 0 errors\n",
    "                print(\"User {} has a thrashy score of : {}\".format(str(author), round(trashy_score,3)))                    \n",
    "\n",
    "                if trashy_score > 0.5:\n",
    "                    trashy_users[str(author)] = [trashy_score, sub_count]\n",
    "\n",
    "                    for trash in user_trashy_urls:\n",
    "                        spam_content.append(trash)\n",
    "\n",
    "                                                            \n",
    "            except Exception as e: #In case of random errors\n",
    "                print(str(e))\n",
    "                \n",
    "        for spam in spam_content:\n",
    "            spam_id = spam[0]\n",
    "            spam_user = spam[2]\n",
    "            submission = reddit.submission(id=spam[0])\n",
    "            created_time = submission.created_utc\n",
    "            if time.time()-created_time <= 86400:\n",
    "                link = \"https://reddit.com\"+submission.permalink\n",
    "\n",
    "                message = \"\"\"*Beep boop*\n",
    "\n",
    "I am a bot that sniffs out spammers, and this smells like spam.\n",
    "\n",
    "At least {}% out of the {} submissions from /u/{} appear to be for Udemy affiliate links. \n",
    "\n",
    "Don't let spam take over Reddit! Throw it out!\n",
    "\n",
    "*Bee bop*\"\"\".format(round(trashy_users[spam_user][0]*100,2), trashy_users[spam_user][1], spam_user)\n",
    "\n",
    "                try:\n",
    "                    with open(\"posted_urls.txt\",\"r\") as f:\n",
    "                        already_posted = f.read().split('\\n')\n",
    "                    if link not in already_posted:\n",
    "                        print(message)\n",
    "                        submission.reply(message)\n",
    "                        print(\"We've posted to {} and now we need to sleep for 12 minutes\".format(link))\n",
    "                        with open(\"posted_urls.txt\",\"a\") as f:\n",
    "                            f.write(link+'\\n')\n",
    "                        time.sleep(12*60)\n",
    "                        break\n",
    "                except Exception as e:\n",
    "                    print(str(e))\n",
    "                    time.sleep(12*60)"
   ]
  },
  {
   "cell_type": "code",
   "execution_count": null,
   "metadata": {
    "collapsed": true
   },
   "outputs": [],
   "source": []
  },
  {
   "cell_type": "code",
   "execution_count": null,
   "metadata": {
    "collapsed": true
   },
   "outputs": [],
   "source": []
  },
  {
   "cell_type": "code",
   "execution_count": null,
   "metadata": {
    "collapsed": true
   },
   "outputs": [],
   "source": []
  },
  {
   "cell_type": "code",
   "execution_count": null,
   "metadata": {
    "collapsed": true
   },
   "outputs": [],
   "source": []
  }
 ],
 "metadata": {
  "kernelspec": {
   "display_name": "Python 2",
   "language": "python",
   "name": "python2"
  },
  "language_info": {
   "codemirror_mode": {
    "name": "ipython",
    "version": 2
   },
   "file_extension": ".py",
   "mimetype": "text/x-python",
   "name": "python",
   "nbconvert_exporter": "python",
   "pygments_lexer": "ipython2",
   "version": "2.7.14"
  }
 },
 "nbformat": 4,
 "nbformat_minor": 2
}
