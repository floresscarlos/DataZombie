{
 "cells": [
  {
   "cell_type": "code",
   "execution_count": null,
   "metadata": {},
   "outputs": [],
   "source": [
    "import smtplib\n",
    "\n",
    "#credentials\n",
    "password = getpass.getpass()"
   ]
  },
  {
   "cell_type": "code",
   "execution_count": null,
   "metadata": {},
   "outputs": [],
   "source": [
    "import smtplib\n",
    "# import getpass\n",
    "\n",
    "#credentials\n",
    "# password = getpass.getpass()\n",
    "email_user = 'floresscarlos@gmail.com'\n",
    "\n",
    "#Destination & Server info\n",
    "email_send = 'ebentivegna@linkedin.com'\n",
    "server = smtplib.SMTP('smtp.gmail.com',587)\n",
    "server.starttls()\n",
    "server.login(email_user,password)\n",
    "\n",
    "#Deteails\n",
    "message = 'Select * from dwh.v_dim_company;'\n",
    "server.sendmail(email_user,email_send,message)\n",
    "server.quit()\n",
    "\n",
    "#Visual success\n",
    "# print('Succesfully sent email \\nEnjoy')"
   ]
  },
  {
   "cell_type": "code",
   "execution_count": null,
   "metadata": {
    "collapsed": true
   },
   "outputs": [],
   "source": []
  }
 ],
 "metadata": {
  "kernelspec": {
   "display_name": "Python 2",
   "language": "python",
   "name": "python2"
  },
  "language_info": {
   "codemirror_mode": {
    "name": "ipython",
    "version": 2
   },
   "file_extension": ".py",
   "mimetype": "text/x-python",
   "name": "python",
   "nbconvert_exporter": "python",
   "pygments_lexer": "ipython2",
   "version": "2.7.14"
  }
 },
 "nbformat": 4,
 "nbformat_minor": 2
}
