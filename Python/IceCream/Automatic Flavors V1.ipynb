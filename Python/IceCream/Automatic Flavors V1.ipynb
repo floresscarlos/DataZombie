{
 "cells": [
  {
   "cell_type": "code",
   "execution_count": null,
   "metadata": {
    "collapsed": true
   },
   "outputs": [],
   "source": [
    "#Packages\n",
    "#web scraping package\n",
    "from bs4 import BeautifulSoup\n",
    "import requests\n",
    "#regex\n",
    "import re\n",
    "import numpy as np \n",
    " \n",
    "#load URL we want to scrape into an array\n",
    "menu_url  = requests.get(\"http://linkedin.cafebonappetit.com/cafe/urban-terrace/\")\n",
    " \n",
    "menu_data = menu_url.text\n",
    " \n",
    "menu_soup = BeautifulSoup(menu_data, 'html.parser') \n",
    " \n",
    "#get relevant part from menu\n",
    "menu_soup_daypart = menu_soup.select_one('body > div > #page > #main > #primary > #content > #panel-daypart-menu-1')\n",
    " \n",
    "menu_soup_script = menu_soup_daypart.select_one('script')\n",
    " \n",
    " \n",
    "#separate menu items into list\n",
    "menu_items = menu_soup_script.text.split('\"monotony\":{}}')\n",
    " \n",
    "#extract label from each item in list\n",
    "menu_items_icecream = list(filter(lambda x: re.findall('\"station_id\":\"10167\"',x), menu_items))\n",
    "#parse flavor label\n",
    "flavors = list(map(lambda x: re.findall('\"label\":\"(.*?)\".*\"station_id\":\"10167\"',x), menu_items_icecream))\n",
    " \n",
    "# print(flavors)"
   ]
  },
  {
   "cell_type": "code",
   "execution_count": null,
   "metadata": {},
   "outputs": [],
   "source": [
    "remove_list = [('butter pecan ice cream', 'butter pecan ice cream'), ('chocolate ice cream', 'chocolate ice cream'), ('vanilla ice cream', 'vanilla ice cream'), ('caramel sauce', 'caramel sauce'), ('vegan chocolate syrup', 'vegan chocolate syrup'), ('whipped cream', 'whipped cream')]\n",
    "\n",
    "main_list = np.setdiff1d(flavors,remove_list)\n",
    "\n",
    "print(main_list)"
   ]
  },
  {
   "cell_type": "code",
   "execution_count": null,
   "metadata": {
    "collapsed": true,
    "scrolled": true
   },
   "outputs": [],
   "source": [
    "#FLAVOR\n",
    "#Select element of list tupple to get rid of u'\n",
    "# for i in flavors:\n",
    "#     print (str(i[0]),str(i[0]))"
   ]
  },
  {
   "cell_type": "code",
   "execution_count": null,
   "metadata": {},
   "outputs": [],
   "source": [
    "# Add to List\n",
    "list = []\n",
    "for i in main_list:\n",
    "    list.append((str(i),str(i)))\n",
    "    \n",
    "print(list)"
   ]
  },
  {
   "cell_type": "code",
   "execution_count": null,
   "metadata": {
    "collapsed": true
   },
   "outputs": [],
   "source": [
    "#Check if list is empty\n",
    "empty_list = [2]\n",
    "if len(empty_list)== 0:\n",
    "    print \"Empty\"\n",
    "else:\n",
    "    print \"There is data\"h\n"
   ]
  },
  {
   "cell_type": "code",
   "execution_count": null,
   "metadata": {},
   "outputs": [],
   "source": [
    "print(list)"
   ]
  },
  {
   "cell_type": "code",
   "execution_count": null,
   "metadata": {
    "collapsed": true
   },
   "outputs": [],
   "source": []
  }
 ],
 "metadata": {
  "kernelspec": {
   "display_name": "Python 2",
   "language": "python",
   "name": "python2"
  },
  "language_info": {
   "codemirror_mode": {
    "name": "ipython",
    "version": 2
   },
   "file_extension": ".py",
   "mimetype": "text/x-python",
   "name": "python",
   "nbconvert_exporter": "python",
   "pygments_lexer": "ipython2",
   "version": "2.7.14"
  }
 },
 "nbformat": 4,
 "nbformat_minor": 2
}
