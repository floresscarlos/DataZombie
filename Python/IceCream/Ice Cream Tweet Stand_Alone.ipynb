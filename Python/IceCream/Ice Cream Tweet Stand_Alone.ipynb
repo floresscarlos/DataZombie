{
 "cells": [
  {
   "cell_type": "code",
   "execution_count": null,
   "metadata": {},
   "outputs": [],
   "source": [
    "#Libraries\n",
    "from bs4 import BeautifulSoup\n",
    "import requests\n",
    "import numpy as np \n",
    "import time\n",
    "import re\n",
    "import tweepy as tp\n",
    "\n",
    "#credentials to login to twitter api\n",
    "consumer_key = '6DI6Z1dgRHDvrWXQCfgRKBaWn'\n",
    "consumer_secret = 'HYdadkisuka2XQdttE186rK3ZXwZwIczrWvfGan79kiud2JI1a'\n",
    "access_token = '954192403753086976-9BXH66iOhTbvlzeANEDwoMyHTF5RQLx'\n",
    "access_secret = 'ijBGtHnu3dKr1jzzeKjOgs4prTfQtb3GC498rnrSqwXfc'\n",
    "\n",
    "def flavor_tweet():   \n",
    "    while True:\n",
    "        try:\n",
    "            print ('............ Looking for flavors ............... \\n ............................................... \\n')\n",
    "            #Pull Flavors\n",
    "            menu_url  = requests.get(\"http://linkedin.cafebonappetit.com/cafe/urban-terrace/\")\n",
    "            menu_data = menu_url.text\n",
    "            menu_soup = BeautifulSoup(menu_data, 'html.parser') \n",
    "            menu_soup_daypart = menu_soup.select_one('body > div > #page > #main > #primary > #content > #panel-daypart-menu-1')\n",
    "            menu_soup_script = menu_soup_daypart.select_one('script')\n",
    "            menu_items = menu_soup_script.text.split('\"monotony\":{}}')\n",
    "            menu_items_icecream = list(filter(lambda x: re.findall('\"station_id\":\"10167\"',x), menu_items))\n",
    "            flavors = list(map(lambda x: re.findall('\"label\":\"(.*?)\".*\"station_id\":\"10167\"',x), menu_items_icecream))\n",
    "        except Exception as e:\n",
    "            flavors = []\n",
    "            pass  \n",
    "        #Remove hard coded flavors\n",
    "        remove_list = [('butter pecan ice cream', 'butter pecan ice cream'), ('chocolate ice cream', 'chocolate ice cream'), ('vanilla ice cream', 'vanilla ice cream'), ('caramel sauce', 'caramel sauce'), ('vegan chocolate syrup', 'vegan chocolate syrup'), ('whipped cream', 'whipped cream')]\n",
    "\n",
    "        #Flavors\n",
    "        main_list = np.setdiff1d(flavors,remove_list) #Flavors are here ['flavor1','flavor2]\n",
    "\n",
    "        if len(main_list) > 0:\n",
    "            #Login to twitter account api\n",
    "            auth = tp.OAuthHandler( consumer_key, consumer_secret )\n",
    "            auth.set_access_token( access_token, access_secret )\n",
    "            api = tp.API(auth)\n",
    "            #Tweet\n",
    "            yummy = 'New flavors are out! \\n* ' + ' \\n* '.join(main_list)\n",
    "            api.update_status(yummy)\n",
    "            print(yummy + '\\n')\n",
    "            print('............................................... \\n We Just Tweeted! Lets check back tomorrow ... \\n ............................................... \\n')\n",
    "            time.sleep(1200 * 60) #20 hours\n",
    "        else:\n",
    "            print('...............No new Flavors .................. \\n ............................................... \\n ...............Checking in 20min ..................')\n",
    "            time.sleep(20 * 60) #20minutes\n",
    "            \n",
    "if __name__ == '__main__':\n",
    "    flavor_tweet()\n",
    "    "
   ]
  },
  {
   "cell_type": "code",
   "execution_count": null,
   "metadata": {},
   "outputs": [],
   "source": [
    "import csv\n",
    "def update_flavor():   \n",
    "    #Read the latest flavors from csv\n",
    "    with open('iceCreamFlavors.csv', 'rb') as f:\n",
    "        reader = csv.reader(f)\n",
    "        updated_flavors = list(reader)  \n",
    "        latest_flavor = updated_flavors[-1]\n",
    "\n",
    "    #Create new Flavors in JSON from csv\n",
    "    new_flavors = [] #This will be used for flask ('flavor1',flavor1'),('flavor2','flavor2')\n",
    "    for i in latest_flavor:\n",
    "        new_flavors.append((str(i),str(i)))           \n",
    "\n",
    "    #Update flavors and replace\n",
    "    yummy = 'Current flavors! \\n* ' + ' \\n* '.join(latest_flavor)\n",
    "    print(yummy + '\\n')\n",
    "    existing_flavors = new_flavors\n",
    "    return existing_flavors\n",
    "\n",
    "update_flavor()"
   ]
  },
  {
   "cell_type": "code",
   "execution_count": null,
   "metadata": {
    "collapsed": true
   },
   "outputs": [],
   "source": []
  }
 ],
 "metadata": {
  "kernelspec": {
   "display_name": "Python 2",
   "language": "python",
   "name": "python2"
  },
  "language_info": {
   "codemirror_mode": {
    "name": "ipython",
    "version": 2
   },
   "file_extension": ".py",
   "mimetype": "text/x-python",
   "name": "python",
   "nbconvert_exporter": "python",
   "pygments_lexer": "ipython2",
   "version": "2.7.14"
  }
 },
 "nbformat": 4,
 "nbformat_minor": 2
}
