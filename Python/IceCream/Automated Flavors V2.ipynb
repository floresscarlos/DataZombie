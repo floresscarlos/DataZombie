{
 "cells": [
  {
   "cell_type": "code",
   "execution_count": null,
   "metadata": {
    "collapsed": true
   },
   "outputs": [],
   "source": [
    "print(existing_flavors)\n",
    "print(new_flavors)"
   ]
  },
  {
   "cell_type": "code",
   "execution_count": null,
   "metadata": {
    "collapsed": true,
    "scrolled": true
   },
   "outputs": [],
   "source": [
    "print(existing_flavors)"
   ]
  },
  {
   "cell_type": "code",
   "execution_count": null,
   "metadata": {
    "collapsed": true
   },
   "outputs": [],
   "source": [
    "#Flavor testing\n",
    "Same = sorted(new_flavors) == sorted(main_list)\n",
    "\n",
    "if Same == False:\n",
    "    print('True')\n",
    "else:\n",
    "    print('Nope')"
   ]
  },
  {
   "cell_type": "code",
   "execution_count": null,
   "metadata": {
    "collapsed": true
   },
   "outputs": [],
   "source": [
    "1. Pull flavor\n",
    "2. Store in al ist\n",
    "3. If flavor is not the same as the current and its not empty then change it\n",
    "4. Otherwise dont\n",
    "5. THEN "
   ]
  },
  {
   "cell_type": "code",
   "execution_count": null,
   "metadata": {},
   "outputs": [],
   "source": [
    "#Libraries\n",
    "from bs4 import BeautifulSoup\n",
    "import requests\n",
    "import re\n",
    "import numpy as np \n",
    "import time\n",
    "\n",
    "#Existing Flavors\n",
    "existing_flavors = ['coconut','icecream']\n",
    "\n",
    "def flavor_script():   \n",
    "    while True:\n",
    "        print ('............ Looking for flavors ............... \\n ............................................... \\n')\n",
    "        #Pull Flavors\n",
    "        menu_url  = requests.get(\"http://linkedin.cafebonappetit.com/cafe/urban-terrace/\")\n",
    "        menu_data = menu_url.text\n",
    "        menu_soup = BeautifulSoup(menu_data, 'html.parser') \n",
    "        menu_soup_daypart = menu_soup.select_one('body > div > #page > #main > #primary > #content > #panel-daypart-menu-1')\n",
    "        menu_soup_script = menu_soup_daypart.select_one('script')\n",
    "        menu_items = menu_soup_script.text.split('\"monotony\":{}}')\n",
    "        menu_items_icecream = list(filter(lambda x: re.findall('\"station_id\":\"10167\"',x), menu_items))\n",
    "        flavors = list(map(lambda x: re.findall('\"label\":\"(.*?)\".*\"station_id\":\"10167\"',x), menu_items_icecream))\n",
    "\n",
    "        #Remove hard coded flavors\n",
    "        remove_list = [('butter pecan ice cream', 'butter pecan ice cream'), ('chocolate ice cream', 'chocolate ice cream'), ('vanilla ice cream', 'vanilla ice cream'), ('caramel sauce', 'caramel sauce'), ('vegan chocolate syrup', 'vegan chocolate syrup'), ('whipped cream', 'whipped cream')]\n",
    "        main_list = np.setdiff1d(flavors,remove_list)\n",
    "\n",
    "        #Create new Flavors\n",
    "        new_flavors = []\n",
    "        for i in main_list:\n",
    "            new_flavors.append((str(i),str(i)))\n",
    "\n",
    "        #Check if its the same existing flavor   \n",
    "        global existing_flavors\n",
    "        same_flavor = sorted(new_flavors) == sorted(existing_flavors)    \n",
    "\n",
    "        if len(main_list) > 0:\n",
    "            existing_flavors = new_flavors\n",
    "            print('...............Yummu new Flavors .................. \\n ...............Should we Tweet? ..................\\n')\n",
    "            print('New flavors:\\n')\n",
    "            print(existing_flavors)\n",
    "            time.sleep(1200 * 60) #20 hours\n",
    "        else:\n",
    "            print('...............No new Flavors .................. \\n \\n')\n",
    "            print('Current flavors:\\n')\n",
    "            print(existing_flavors)\n",
    "            print ('\\n')\n",
    "            time.sleep(20 * 60) #20minutes\n",
    "\n",
    "            \n",
    "if __name__ == '__main__':\n",
    "    flavor_script()\n",
    "    "
   ]
  },
  {
   "cell_type": "code",
   "execution_count": null,
   "metadata": {
    "collapsed": true
   },
   "outputs": [],
   "source": []
  }
 ],
 "metadata": {
  "kernelspec": {
   "display_name": "Python 2",
   "language": "python",
   "name": "python2"
  },
  "language_info": {
   "codemirror_mode": {
    "name": "ipython",
    "version": 2
   },
   "file_extension": ".py",
   "mimetype": "text/x-python",
   "name": "python",
   "nbconvert_exporter": "python",
   "pygments_lexer": "ipython2",
   "version": "2.7.14"
  }
 },
 "nbformat": 4,
 "nbformat_minor": 2
}
