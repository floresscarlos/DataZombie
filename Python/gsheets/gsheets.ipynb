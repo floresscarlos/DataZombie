{
 "cells": [
  {
   "cell_type": "code",
   "execution_count": null,
   "metadata": {},
   "outputs": [],
   "source": [
    "#Documentation https://gspread.readthedocs.io/en/latest/\n",
    "import gspread\n",
    "from oauth2client.service_account import ServiceAccountCredentials"
   ]
  },
  {
   "cell_type": "code",
   "execution_count": null,
   "metadata": {},
   "outputs": [],
   "source": [
    "#Client Login\n",
    "scope = ['https://spreadsheets.google.com/feeds']\n",
    "creds = ServiceAccountCredentials.from_json_keyfile_name('client_secret.json',scope)\n",
    "client = gspread.authorize(creds)\n",
    "\n",
    "#Select Sheet\n",
    "sheet = client.open('Scraping').sheet1\n",
    "\n",
    "#Commands on Sheet\n",
    "sheet.update_cell(1,1,\"I am amazing\")\n",
    "sheet.update_cell(2,1,\"Below amazing\")\n",
    "sheet.update_cell(3,1,\"3rd row!\")\n",
    "sheet.update_cell(4,1,\"4th bam!!\")\n",
    "sheet.update_cell(1,2,\"Second column first row\")\n",
    "sheet.update_cell(2,2,\"2 by 2 baby\")\n",
    "sheet.update_cell(1,3,\"uno dos tres\")"
   ]
  },
  {
   "cell_type": "code",
   "execution_count": null,
   "metadata": {
    "collapsed": true
   },
   "outputs": [],
   "source": [
    "#Possible commands to explore\n",
    "#Import csv\n",
    "#"
   ]
  }
 ],
 "metadata": {
  "kernelspec": {
   "display_name": "Python 2",
   "language": "python",
   "name": "python2"
  },
  "language_info": {
   "codemirror_mode": {
    "name": "ipython",
    "version": 2
   },
   "file_extension": ".py",
   "mimetype": "text/x-python",
   "name": "python",
   "nbconvert_exporter": "python",
   "pygments_lexer": "ipython2",
   "version": "2.7.14"
  }
 },
 "nbformat": 4,
 "nbformat_minor": 2
}
