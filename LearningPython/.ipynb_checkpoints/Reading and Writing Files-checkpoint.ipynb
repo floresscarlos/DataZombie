{
 "cells": [
  {
   "cell_type": "code",
   "execution_count": null,
   "metadata": {
    "collapsed": true
   },
   "outputs": [],
   "source": [
    "#Read and write\n",
    "#Write into a file\n",
    "\n",
    "def main():\n",
    "    #Open Text File\n",
    "    # w+ overwrites\n",
    "    # a+ appends\n",
    "    f = open(\"textfile.txt\",\"w+\") #Takes (name, permission type)\n",
    "    \n",
    "    #Write information into it\n",
    "    for i in range(10):\n",
    "        f.write(\"This is line %d\\r\\n\" % (i+1))\n",
    "    \n",
    "    #Close File\n",
    "    f.close()\n",
    "    \n",
    "    \n",
    "if __name__ == \"__main__\":\n",
    "    main()"
   ]
  },
  {
   "cell_type": "code",
   "execution_count": null,
   "metadata": {
    "collapsed": true
   },
   "outputs": [],
   "source": [
    "#Append\n",
    "\n",
    "def main():\n",
    "    #Open Text File\n",
    "    f = open(\"textfile.txt\",\"a+\") \n",
    "    \n",
    "    #Write information into it\n",
    "    for i in range(10):\n",
    "        f.write(\"This is line %d\\r\\n\" % (i+1))\n",
    "    \n",
    "    #Close File\n",
    "    f.close()\n",
    "    \n",
    "    \n",
    "if __name__ == \"__main__\":\n",
    "    main()"
   ]
  },
  {
   "cell_type": "code",
   "execution_count": null,
   "metadata": {},
   "outputs": [],
   "source": [
    "#Read\n",
    "def main():\n",
    "    #Open Text File\n",
    "    f = open(\"textfile.txt\",\"r\")  #Read\n",
    "    \n",
    "    if f.mode == 'r': #check file is open\n",
    "        contents = f.read()\n",
    "        print contents\n",
    "\n",
    "    f.close()\n",
    "        \n",
    "if __name__ == \"__main__\":\n",
    "    main()"
   ]
  },
  {
   "cell_type": "code",
   "execution_count": null,
   "metadata": {},
   "outputs": [],
   "source": [
    "#Read each individual line into a list\n",
    "def main():\n",
    "    #Open Text File\n",
    "    f = open(\"textfile.txt\",\"r\")  #Read\n",
    "    if f.mode == 'r': #check file is open\n",
    "    \n",
    "        fl = f.readlines()\n",
    "        for x in fl:\n",
    "            print x\n",
    "\n",
    "    f.close()\n",
    "        \n",
    "if __name__ == \"__main__\":\n",
    "    main()"
   ]
  },
  {
   "cell_type": "code",
   "execution_count": null,
   "metadata": {
    "collapsed": true
   },
   "outputs": [],
   "source": []
  }
 ],
 "metadata": {
  "kernelspec": {
   "display_name": "Python 2",
   "language": "python",
   "name": "python2"
  },
  "language_info": {
   "codemirror_mode": {
    "name": "ipython",
    "version": 2
   },
   "file_extension": ".py",
   "mimetype": "text/x-python",
   "name": "python",
   "nbconvert_exporter": "python",
   "pygments_lexer": "ipython2",
   "version": "2.7.14"
  }
 },
 "nbformat": 4,
 "nbformat_minor": 2
}
